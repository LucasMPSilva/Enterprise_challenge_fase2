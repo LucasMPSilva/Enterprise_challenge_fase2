{
 "cells": [
  {
   "cell_type": "code",
   "execution_count": null,
   "id": "9b37ee00",
   "metadata": {},
   "outputs": [],
   "source": [
    "import pandas as pd, matplotlib.pyplot as plt, numpy as np, seaborn as sns, os\n",
    "from sklearn.model_selection import train_test_split\n",
    "from sklearn.ensemble import IsolationForest, RandomForestClassifier\n",
    "from sklearn.metrics import mean_squared_error, r2_score\n",
    "from sklearn.cluster import KMeans\n",
    "import joblib"
   ]
  },
  {
   "cell_type": "markdown",
   "id": "d3d2eb1b",
   "metadata": {},
   "source": [
    "## Extração de dados simulados"
   ]
  },
  {
   "cell_type": "code",
   "execution_count": null,
   "id": "478c94a3",
   "metadata": {},
   "outputs": [],
   "source": [
    "df_cicle = pd.DataFrame()\n",
    "\n",
    "df = pd.read_csv(r\"C:\\Users\\Davi\\Documents\\Projetos\\FIAP\\FASE 4\\Enterprise Challenge\\config\\sensor_data_30000.csv\")\n",
    "df['timestamp_ms'] = df['timestamp_ms']/1000\n",
    "df[\"acc_total\"] = np.sqrt(df[\"accX_g\"]**2 + df[\"accY_g\"]**2 + df[\"accZ_g\"]**2)\n",
    "\n",
    "display(df_cicle)\n",
    "display(df)"
   ]
  },
  {
   "cell_type": "markdown",
   "id": "a8fb5cef",
   "metadata": {},
   "source": [
    "## Divisão de dados de treino e dados de teste 70 - 30\n"
   ]
  },
  {
   "cell_type": "code",
   "execution_count": null,
   "id": "14ed897a",
   "metadata": {},
   "outputs": [],
   "source": [
    "X = df.loc[df['cycleCount']>=4200, ['tempC', 'currentA', 'acc_total']]\n",
    "y = df.loc[df['cycleCount']>=4200,'cycleCount']\n",
    "\n",
    "df_ml = pd.DataFrame({'cycle':df.loc[df['cycleCount']<4200,'cycleCount'], 'tempC':df.loc[df['cycleCount']<4200,'tempC'], 'currentA':df.loc[df['cycleCount']<4200,'currentA'], 'acc_total':df.loc[df['cycleCount']<4200,'acc_total']})\n",
    "print(df_ml)\n",
    "# x_train, x_test, y_train, y_test = train_test_split(x, y, train_size=0.3, random_state=30)\n",
    "# print(f'x_train: {x_train.shape}\\nx_test: {x_test.shape}\\ny_train: {y_train.shape}\\ny_test: {y_test.shape}')\n",
    "# print(x_train, y_train)"
   ]
  },
  {
   "cell_type": "markdown",
   "id": "616823db",
   "metadata": {},
   "source": [
    "## Deteção de anomalias\n",
    "Com esse modelo, é possivel identificar comportamentos fora do padrão \n",
    "\n",
    "-1: Anormal\n",
    "\n",
    "1: Normal"
   ]
  },
  {
   "cell_type": "code",
   "execution_count": null,
   "id": "f7c692f4",
   "metadata": {},
   "outputs": [],
   "source": [
    "# X = dados combinando temperatura, corrente e vibração\n",
    "for col in ['tempC', 'currentA', 'acc_total']:\n",
    "    model = IsolationForest(contamination=0.01)\n",
    "    model.fit(X[[col]])\n",
    "\n",
    "    df_ml[f'{col}_anomaly'] = model.predict(df_ml[[col]])"
   ]
  },
  {
   "cell_type": "markdown",
   "id": "66f83df2",
   "metadata": {},
   "source": [
    "### Gerando visual para identificação de anomalias\n",
    "Os dados serão gerados com base em um perido de 10 minutos (120 ciclos)\n",
    "\n",
    "Os pontos azuis representam os dados considerados sem anomalias, enquanto os pontos vermelhos representam as anomalias encontradas."
   ]
  },
  {
   "cell_type": "code",
   "execution_count": null,
   "id": "cf62a695",
   "metadata": {},
   "outputs": [],
   "source": [
    "for col in ['tempC', 'currentA', 'acc_total']:\n",
    "    plt.figure(figsize=(12, 4))\n",
    "    sns.scatterplot(data=df_ml.loc[df_ml['cycle']<=120], x='cycle', y=col, hue=f'{col}_anomaly', palette={1: 'blue', -1: 'red'})\n",
    "    plt.title(f'Anomalias detectadas na variável {col}')\n",
    "    plt.legend(title='Anomalia')\n",
    "    plt.xlabel('Ciclo')\n",
    "    plt.ylabel(col)\n",
    "    plt.grid(True)\n",
    "    plt.show()"
   ]
  }
 ],
 "metadata": {
  "kernelspec": {
   "display_name": "Python 3",
   "language": "python",
   "name": "python3"
  },
  "language_info": {
   "codemirror_mode": {
    "name": "ipython",
    "version": 3
   },
   "file_extension": ".py",
   "mimetype": "text/x-python",
   "name": "python",
   "nbconvert_exporter": "python",
   "pygments_lexer": "ipython3",
   "version": "3.10.11"
  }
 },
 "nbformat": 4,
 "nbformat_minor": 5
}
